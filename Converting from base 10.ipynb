{
 "cells": [
  {
   "cell_type": "markdown",
   "id": "2f659ed1",
   "metadata": {},
   "source": [
    "Converting a number into bases 2, 8 and 16:"
   ]
  },
  {
   "cell_type": "code",
   "execution_count": null,
   "id": "c6f0945e",
   "metadata": {},
   "outputs": [],
   "source": [
    "def binary(n):\n",
    "   if n > 1:\n",
    "       binary(n/2)\n",
    "   print(n % 2,end = '')\n",
    "\n",
    "def octal(n):\n",
    "   if n > 1:\n",
    "       binary(n/8)\n",
    "   print(n % 8,end = '')\n",
    "\n",
    "def hexadecimal(n):\n",
    "   if n > 1:\n",
    "       binary(n/16)\n",
    "   print(n % 16,end = '')\n",
    "\n",
    "\n",
    "num = int(input(\"Enter a number: \"))\n",
    "print(bin(num), \"in binary.\")\n",
    "print(oct(num), \"in octal\")\n",
    "print(hex(num), \"in hexadecimal\")"
   ]
  },
  {
   "cell_type": "markdown",
   "id": "bee86182",
   "metadata": {},
   "source": []
  }
 ],
 "metadata": {
  "kernelspec": {
   "display_name": "Python 3",
   "language": "python",
   "name": "python3"
  },
  "language_info": {
   "codemirror_mode": {
    "name": "ipython",
    "version": 3
   },
   "file_extension": ".py",
   "mimetype": "text/x-python",
   "name": "python",
   "nbconvert_exporter": "python",
   "pygments_lexer": "ipython3",
   "version": "3.8.8"
  }
 },
 "nbformat": 4,
 "nbformat_minor": 5
}
